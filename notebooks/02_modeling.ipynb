{
 "cells": [
  {
   "cell_type": "markdown",
   "metadata": {},
   "source": [
    "# 仮作成\n",
    "\n",
    "MacbookにCUDAのGPUが未搭載のため、Google Colabにて実施。  \n",
    "結果のモデルとパラメータのみローカル保存"
   ]
  }
 ],
 "metadata": {
  "language_info": {
   "name": "python"
  }
 },
 "nbformat": 4,
 "nbformat_minor": 2
}
