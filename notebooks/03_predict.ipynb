{
 "cells": [
  {
   "cell_type": "markdown",
   "metadata": {},
   "source": [
    "# 予測用ノートブック\n",
    "\n",
    "本番運用に使用するノートブック  \n",
    "学習させたモデルから、実際の日記を元に感情分析を実施する"
   ]
  },
  {
   "cell_type": "markdown",
   "metadata": {},
   "source": []
  },
  {
   "cell_type": "code",
   "execution_count": 27,
   "metadata": {},
   "outputs": [],
   "source": [
    "import importlib\n",
    "import datetime\n",
    "\n",
    "import pandas as pd\n",
    "from transformers import AutoTokenizer\n",
    "from transformers import AutoModelForSequenceClassification\n",
    "\n",
    "from src import data\n",
    "from src import models\n",
    "from src.models import predict_model"
   ]
  },
  {
   "cell_type": "code",
   "execution_count": 38,
   "metadata": {},
   "outputs": [
    {
     "data": {
      "text/plain": [
       "<module 'src.data' from '/Users/satouatsushi/sub_business/diary_emotion/src/data/__init__.py'>"
      ]
     },
     "execution_count": 38,
     "metadata": {},
     "output_type": "execute_result"
    }
   ],
   "source": [
    "importlib.reload(data)"
   ]
  },
  {
   "cell_type": "markdown",
   "metadata": {},
   "source": [
    "# モデル読み込み"
   ]
  },
  {
   "cell_type": "code",
   "execution_count": 29,
   "metadata": {},
   "outputs": [],
   "source": [
    "TOKEN_PATH = models.TOKEN_PATH_NOTEBOOK\n",
    "MODEL_PATH = models.MODEL_PATH_NOTEBOOK\n",
    "\n",
    "tokenizer = AutoTokenizer.from_pretrained(TOKEN_PATH)\n",
    "model = AutoModelForSequenceClassification.from_pretrained(MODEL_PATH)"
   ]
  },
  {
   "cell_type": "markdown",
   "metadata": {},
   "source": [
    "# 学習データ読み込み"
   ]
  },
  {
   "cell_type": "code",
   "execution_count": 33,
   "metadata": {},
   "outputs": [],
   "source": [
    "txt_path = '../data/diary/diary_231226.txt'\n",
    "with open(txt_path, 'r', encoding='utf-8') as file:\n",
    "    sentence = file.read()"
   ]
  },
  {
   "cell_type": "markdown",
   "metadata": {},
   "source": [
    "# 予測"
   ]
  },
  {
   "cell_type": "code",
   "execution_count": 34,
   "metadata": {},
   "outputs": [
    {
     "data": {
      "text/plain": [
       "{'喜び': 0.4065364,\n",
       " '悲しみ': 0.046457354,\n",
       " '期待': 0.35451886,\n",
       " '驚き': 0.018473992,\n",
       " '怒り': 0.0049655777,\n",
       " '恐れ': 0.011100665,\n",
       " '嫌悪': 0.009053404,\n",
       " '信頼': 0.14889371}"
      ]
     },
     "execution_count": 34,
     "metadata": {},
     "output_type": "execute_result"
    }
   ],
   "source": [
    "result = predict_model.analyze_emotion(model, tokenizer, sentence)\n",
    "result"
   ]
  },
  {
   "cell_type": "markdown",
   "metadata": {},
   "source": [
    "# アウトプットデータ作成"
   ]
  },
  {
   "cell_type": "code",
   "execution_count": 35,
   "metadata": {},
   "outputs": [],
   "source": [
    "result_df = pd.DataFrame(result.values(), index=result.keys()).T\n",
    "result_df['Sentence'] = sentence"
   ]
  },
  {
   "cell_type": "code",
   "execution_count": 36,
   "metadata": {},
   "outputs": [
    {
     "data": {
      "text/html": [
       "<div>\n",
       "<style scoped>\n",
       "    .dataframe tbody tr th:only-of-type {\n",
       "        vertical-align: middle;\n",
       "    }\n",
       "\n",
       "    .dataframe tbody tr th {\n",
       "        vertical-align: top;\n",
       "    }\n",
       "\n",
       "    .dataframe thead th {\n",
       "        text-align: right;\n",
       "    }\n",
       "</style>\n",
       "<table border=\"1\" class=\"dataframe\">\n",
       "  <thead>\n",
       "    <tr style=\"text-align: right;\">\n",
       "      <th></th>\n",
       "      <th>喜び</th>\n",
       "      <th>悲しみ</th>\n",
       "      <th>期待</th>\n",
       "      <th>驚き</th>\n",
       "      <th>怒り</th>\n",
       "      <th>恐れ</th>\n",
       "      <th>嫌悪</th>\n",
       "      <th>信頼</th>\n",
       "      <th>Sentence</th>\n",
       "    </tr>\n",
       "  </thead>\n",
       "  <tbody>\n",
       "    <tr>\n",
       "      <th>0</th>\n",
       "      <td>0.406536</td>\n",
       "      <td>0.046457</td>\n",
       "      <td>0.354519</td>\n",
       "      <td>0.018474</td>\n",
       "      <td>0.004966</td>\n",
       "      <td>0.011101</td>\n",
       "      <td>0.009053</td>\n",
       "      <td>0.148894</td>\n",
       "      <td>テストテスト\\n\\n今日から冬休みが始まりました。今週の予定は自己啓発に取り組み、来週からは...</td>\n",
       "    </tr>\n",
       "  </tbody>\n",
       "</table>\n",
       "</div>"
      ],
      "text/plain": [
       "         喜び       悲しみ        期待        驚き        怒り        恐れ        嫌悪  \\\n",
       "0  0.406536  0.046457  0.354519  0.018474  0.004966  0.011101  0.009053   \n",
       "\n",
       "         信頼                                           Sentence  \n",
       "0  0.148894  テストテスト\\n\\n今日から冬休みが始まりました。今週の予定は自己啓発に取り組み、来週からは...  "
      ]
     },
     "execution_count": 36,
     "metadata": {},
     "output_type": "execute_result"
    }
   ],
   "source": [
    "result_df"
   ]
  },
  {
   "cell_type": "markdown",
   "metadata": {},
   "source": [
    "# 保存"
   ]
  },
  {
   "cell_type": "code",
   "execution_count": 39,
   "metadata": {},
   "outputs": [],
   "source": [
    "temprate_output_path = data.OUTPUT_DATA_PATH_NOTEBOOK\n",
    "today = datetime.datetime.today().strftime('%Y%m%d')\n",
    "output_path = temprate_output_path.replace('date', today)"
   ]
  },
  {
   "cell_type": "code",
   "execution_count": 40,
   "metadata": {},
   "outputs": [],
   "source": [
    "data.output_csv(result_df, output_path)"
   ]
  },
  {
   "cell_type": "code",
   "execution_count": null,
   "metadata": {},
   "outputs": [],
   "source": []
  }
 ],
 "metadata": {
  "kernelspec": {
   "display_name": "venv",
   "language": "python",
   "name": "python3"
  },
  "language_info": {
   "codemirror_mode": {
    "name": "ipython",
    "version": 3
   },
   "file_extension": ".py",
   "mimetype": "text/x-python",
   "name": "python",
   "nbconvert_exporter": "python",
   "pygments_lexer": "ipython3",
   "version": "3.9.6"
  }
 },
 "nbformat": 4,
 "nbformat_minor": 2
}
